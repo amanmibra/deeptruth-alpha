{
 "cells": [
  {
   "cell_type": "code",
   "execution_count": 5,
   "id": "b569e44d",
   "metadata": {},
   "outputs": [
    {
     "name": "stdout",
     "output_type": "stream",
     "text": [
      "The autoreload extension is already loaded. To reload it, use:\n",
      "  %reload_ext autoreload\n"
     ]
    }
   ],
   "source": [
    "%load_ext autoreload\n",
    "%autoreload 2"
   ]
  },
  {
   "cell_type": "code",
   "execution_count": 18,
   "id": "e3dc72f7",
   "metadata": {},
   "outputs": [],
   "source": [
    "import sys\n",
    "sys.path.append('..')\n",
    "\n",
    "import torch\n",
    "import torchaudio\n",
    "from dataset import VoiceDataset\n",
    "from cnn import CNNetwork"
   ]
  },
  {
   "cell_type": "code",
   "execution_count": 11,
   "id": "2df3139f",
   "metadata": {},
   "outputs": [],
   "source": [
    "# script defaults\n",
    "BATCH_SIZE = 10\n",
    "EPOCHS = 100\n",
    "LEARNING_RATE = 0.001\n",
    "\n",
    "TRAIN_FILE=\"../data/train\"\n",
    "TEST_FILE=\"../data/test\"\n",
    "SAMPLE_RATE=48000"
   ]
  },
  {
   "cell_type": "code",
   "execution_count": 12,
   "id": "96d0da92",
   "metadata": {},
   "outputs": [],
   "source": [
    "train_dataset = VoiceDataset(TRAIN_FILE)"
   ]
  },
  {
   "cell_type": "code",
   "execution_count": 13,
   "id": "f4f0f85a",
   "metadata": {},
   "outputs": [
    {
     "data": {
      "text/plain": [
       "96"
      ]
     },
     "execution_count": 13,
     "metadata": {},
     "output_type": "execute_result"
    }
   ],
   "source": [
    "len(train_dataset)"
   ]
  },
  {
   "cell_type": "code",
   "execution_count": 16,
   "id": "42e54b32",
   "metadata": {},
   "outputs": [
    {
     "data": {
      "text/plain": [
       "{'clone': 0, 'pure': 1}"
      ]
     },
     "execution_count": 16,
     "metadata": {},
     "output_type": "execute_result"
    }
   ],
   "source": [
    "train_dataset.label_mapping"
   ]
  },
  {
   "cell_type": "code",
   "execution_count": 20,
   "id": "f49b3587",
   "metadata": {},
   "outputs": [
    {
     "data": {
      "text/plain": [
       "<All keys matched successfully>"
      ]
     },
     "execution_count": 20,
     "metadata": {},
     "output_type": "execute_result"
    }
   ],
   "source": [
    "model = CNNetwork()\n",
    "state_dict = torch.load('../models/deeptruth_20230524_013021.pth')\n",
    "model.load_state_dict(state_dict)"
   ]
  },
  {
   "cell_type": "code",
   "execution_count": 27,
   "id": "eaac6bd5",
   "metadata": {},
   "outputs": [],
   "source": [
    "wav, _ = train_dataset[-5]"
   ]
  },
  {
   "cell_type": "code",
   "execution_count": 28,
   "id": "377332a2",
   "metadata": {},
   "outputs": [
    {
     "data": {
      "text/plain": [
       "tensor([[1.0000e+00, 4.3918e-11]], grad_fn=<SoftmaxBackward0>)"
      ]
     },
     "execution_count": 28,
     "metadata": {},
     "output_type": "execute_result"
    }
   ],
   "source": [
    "model(wav.unsqueeze(0))"
   ]
  },
  {
   "cell_type": "code",
   "execution_count": null,
   "id": "7b973818",
   "metadata": {},
   "outputs": [],
   "source": []
  }
 ],
 "metadata": {
  "kernelspec": {
   "display_name": "Python 3 (ipykernel)",
   "language": "python",
   "name": "python3"
  },
  "language_info": {
   "codemirror_mode": {
    "name": "ipython",
    "version": 3
   },
   "file_extension": ".py",
   "mimetype": "text/x-python",
   "name": "python",
   "nbconvert_exporter": "python",
   "pygments_lexer": "ipython3",
   "version": "3.9.16"
  }
 },
 "nbformat": 4,
 "nbformat_minor": 5
}
