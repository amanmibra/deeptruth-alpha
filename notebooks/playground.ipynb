{
 "cells": [
  {
   "cell_type": "code",
   "execution_count": 5,
   "id": "0905ff0c",
   "metadata": {},
   "outputs": [
    {
     "name": "stdout",
     "output_type": "stream",
     "text": [
      "The autoreload extension is already loaded. To reload it, use:\n",
      "  %reload_ext autoreload\n"
     ]
    }
   ],
   "source": [
    "%load_ext autoreload\n",
    "%autoreload 2"
   ]
  },
  {
   "cell_type": "code",
   "execution_count": 8,
   "id": "ca31f50c",
   "metadata": {},
   "outputs": [],
   "source": [
    "import sys\n",
    "sys.path.append('..')\n",
    "\n",
    "from dataset import VoiceDataset\n",
    "from cnn import CNNetwork"
   ]
  },
  {
   "cell_type": "code",
   "execution_count": 11,
   "id": "0d16ada6",
   "metadata": {},
   "outputs": [],
   "source": [
    "# script defaults\n",
    "BATCH_SIZE = 10\n",
    "EPOCHS = 100\n",
    "LEARNING_RATE = 0.001\n",
    "\n",
    "TRAIN_FILE=\"../data/train\"\n",
    "TEST_FILE=\"../data/test\"\n",
    "SAMPLE_RATE=48000"
   ]
  },
  {
   "cell_type": "code",
   "execution_count": 12,
   "id": "02d86d26",
   "metadata": {},
   "outputs": [],
   "source": [
    "train_dataset = VoiceDataset(TRAIN_FILE)"
   ]
  },
  {
   "cell_type": "code",
   "execution_count": 13,
   "id": "7fdfd5ef",
   "metadata": {},
   "outputs": [
    {
     "data": {
      "text/plain": [
       "96"
      ]
     },
     "execution_count": 13,
     "metadata": {},
     "output_type": "execute_result"
    }
   ],
   "source": [
    "len(train_dataset)"
   ]
  },
  {
   "cell_type": "code",
   "execution_count": 16,
   "id": "9826d650",
   "metadata": {},
   "outputs": [
    {
     "data": {
      "text/plain": [
       "{'clone': 0, 'pure': 1}"
      ]
     },
     "execution_count": 16,
     "metadata": {},
     "output_type": "execute_result"
    }
   ],
   "source": [
    "train_dataset.label_mapping"
   ]
  },
  {
   "cell_type": "code",
   "execution_count": null,
   "id": "bc030d95",
   "metadata": {},
   "outputs": [],
   "source": []
  }
 ],
 "metadata": {
  "kernelspec": {
   "display_name": "Python 3 (ipykernel)",
   "language": "python",
   "name": "python3"
  },
  "language_info": {
   "codemirror_mode": {
    "name": "ipython",
    "version": 3
   },
   "file_extension": ".py",
   "mimetype": "text/x-python",
   "name": "python",
   "nbconvert_exporter": "python",
   "pygments_lexer": "ipython3",
   "version": "3.9.16"
  }
 },
 "nbformat": 4,
 "nbformat_minor": 5
}
